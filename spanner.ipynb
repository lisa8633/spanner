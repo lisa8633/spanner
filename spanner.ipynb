{
 "cells": [
  {
   "cell_type": "markdown",
   "metadata": {},
   "source": [
    "### 1. Configure Spanner CLI and create Shopify Database"
   ]
  },
  {
   "cell_type": "code",
   "execution_count": 1,
   "metadata": {},
   "outputs": [
    {
     "name": "stdout",
     "output_type": "stream",
     "text": [
      "env: GOPATH=/home/jupyter/go\n",
      "env: PATH=$PATH:/usr/local/go/bin:$GOPATH/bin\n",
      "env: SPANNER_EMULATOR_HOST=localhost:9010\n",
      "env: CLI=/home/jupyter/go/bin/spanner-cli\n",
      "env: SPAN_PROJECT=cs327e-sp2020\n",
      "env: SPAN_INSTANCE=span-instance\n",
      "env: SPAN_DATABASE=test-database\n"
     ]
    }
   ],
   "source": [
    "%env GOPATH=/home/jupyter/go\n",
    "%env PATH=$PATH:/usr/local/go/bin:$GOPATH/bin\n",
    "%env SPANNER_EMULATOR_HOST=localhost:9010\n",
    "%env CLI=/home/jupyter/go/bin/spanner-cli\n",
    "%env SPAN_PROJECT={your project}\n",
    "%env SPAN_INSTANCE=span-instance\n",
    "%env SPAN_DATABASE=test-database"
   ]
  },
  {
   "cell_type": "code",
   "execution_count": 2,
   "metadata": {},
   "outputs": [
    {
     "name": "stdout",
     "output_type": "stream",
     "text": [
      "Tables_in_test-database\n",
      "T1\n"
     ]
    }
   ],
   "source": [
    "!$CLI -p $SPAN_PROJECT -i $SPAN_INSTANCE -d $SPAN_DATABASE -e \"show tables\""
   ]
  },
  {
   "cell_type": "code",
   "execution_count": 3,
   "metadata": {},
   "outputs": [],
   "source": [
    "CLI_CONNECT=\"$CLI -p $SPAN_PROJECT -i $SPAN_INSTANCE -d $SPAN_DATABASE\""
   ]
  },
  {
   "cell_type": "code",
   "execution_count": 14,
   "metadata": {},
   "outputs": [],
   "source": [
    "!{CLI_CONNECT} -e \"create database shopify\""
   ]
  },
  {
   "cell_type": "code",
   "execution_count": 15,
   "metadata": {},
   "outputs": [
    {
     "name": "stdout",
     "output_type": "stream",
     "text": [
      "Database\n",
      "shopify\n",
      "test-database\n"
     ]
    }
   ],
   "source": [
    "!{CLI_CONNECT} -e \"show databases\""
   ]
  },
  {
   "cell_type": "code",
   "execution_count": 16,
   "metadata": {},
   "outputs": [
    {
     "name": "stdout",
     "output_type": "stream",
     "text": [
      "env: SPAN_DATABASE=shopify\n"
     ]
    }
   ],
   "source": [
    "%env SPAN_DATABASE=shopify"
   ]
  },
  {
   "cell_type": "code",
   "execution_count": 17,
   "metadata": {},
   "outputs": [],
   "source": [
    "!{CLI_CONNECT} -f create_spanner_tables.sql"
   ]
  },
  {
   "cell_type": "code",
   "execution_count": 18,
   "metadata": {},
   "outputs": [
    {
     "name": "stdout",
     "output_type": "stream",
     "text": [
      "Tables_in_shopify\n",
      "key_benefits\n",
      "apps\n",
      "pricing_plans\n",
      "apps_categories\n",
      "pricing_plan_features\n",
      "categories\n",
      "reviews\n"
     ]
    }
   ],
   "source": [
    "!{CLI_CONNECT} -e \"show tables\""
   ]
  },
  {
   "cell_type": "code",
   "execution_count": 29,
   "metadata": {},
   "outputs": [
    {
     "name": "stdout",
     "output_type": "stream",
     "text": [
      "Table\tCreate Table\n",
      "key_benefits\tCREATE TABLE key_benefits (\n",
      "  app_id STRING(50),\n",
      "  title STRING(2000),\n",
      "  description STRING(MAX),\n",
      ") PRIMARY KEY(app_id)\n"
     ]
    }
   ],
   "source": [
    "!{CLI_CONNECT} -e \"show create table key_benefits\""
   ]
  },
  {
   "cell_type": "code",
   "execution_count": 30,
   "metadata": {},
   "outputs": [
    {
     "name": "stdout",
     "output_type": "stream",
     "text": [
      "Table\tCreate Table\n",
      "apps\tCREATE TABLE apps (\n",
      "  id STRING(50),\n",
      "  url STRING(1000),\n",
      "  title STRING(2000),\n",
      "  developer STRING(100),\n",
      "  developer_link STRING(1000),\n",
      "  icon STRING(1000),\n",
      "  rating FLOAT64,\n",
      "  reviews_count INT64,\n",
      ") PRIMARY KEY(id)\n"
     ]
    }
   ],
   "source": [
    "!{CLI_CONNECT} -e \"show create table apps\""
   ]
  },
  {
   "cell_type": "code",
   "execution_count": 31,
   "metadata": {},
   "outputs": [
    {
     "name": "stdout",
     "output_type": "stream",
     "text": [
      "Table\tCreate Table\n",
      "pricing_plans\tCREATE TABLE pricing_plans (\n",
      "  id STRING(50),\n",
      "  app_id STRING(50),\n",
      "  title STRING(200),\n",
      "  price FLOAT64,\n",
      ") PRIMARY KEY(id)\n"
     ]
    }
   ],
   "source": [
    "!{CLI_CONNECT} -e \"show create table pricing_plans\""
   ]
  },
  {
   "cell_type": "code",
   "execution_count": 32,
   "metadata": {},
   "outputs": [
    {
     "name": "stdout",
     "output_type": "stream",
     "text": [
      "Table\tCreate Table\n",
      "apps_categories\tCREATE TABLE apps_categories (\n",
      "  app_id STRING(50),\n",
      "  category_id STRING(50),\n",
      ") PRIMARY KEY(app_id, category_id)\n"
     ]
    }
   ],
   "source": [
    "!{CLI_CONNECT} -e \"show create table apps_categories\""
   ]
  },
  {
   "cell_type": "code",
   "execution_count": 33,
   "metadata": {},
   "outputs": [
    {
     "name": "stdout",
     "output_type": "stream",
     "text": [
      "Table\tCreate Table\n",
      "pricing_plan_features\tCREATE TABLE pricing_plan_features (\n",
      "  app_id STRING(50),\n",
      "  pricing_plan_id STRING(50),\n",
      "  features STRING(MAX),\n",
      ") PRIMARY KEY(app_id, pricing_plan_id)\n"
     ]
    }
   ],
   "source": [
    "!{CLI_CONNECT} -e \"show create table pricing_plan_features\""
   ]
  },
  {
   "cell_type": "code",
   "execution_count": 34,
   "metadata": {},
   "outputs": [
    {
     "name": "stdout",
     "output_type": "stream",
     "text": [
      "Table\tCreate Table\n",
      "categories\tCREATE TABLE categories (\n",
      "  id STRING(50),\n",
      "  title STRING(2000),\n",
      ") PRIMARY KEY(id)\n"
     ]
    }
   ],
   "source": [
    "!{CLI_CONNECT} -e \"show create table categories\""
   ]
  },
  {
   "cell_type": "code",
   "execution_count": 35,
   "metadata": {},
   "outputs": [
    {
     "name": "stdout",
     "output_type": "stream",
     "text": [
      "Table\tCreate Table\n",
      "reviews\tCREATE TABLE reviews (\n",
      "  app_id STRING(50),\n",
      "  author STRING(100),\n",
      "  rating INT64,\n",
      "  date DATE,\n",
      ") PRIMARY KEY(app_id, author)\n"
     ]
    }
   ],
   "source": [
    "!{CLI_CONNECT} -e \"show create table reviews\""
   ]
  },
  {
   "cell_type": "markdown",
   "metadata": {},
   "source": [
    "#### 2. Open terminal and download shopify dataset: \n",
    "#####    gsutil cp gs://cs327e-open-access/shopify.zip .\n",
    "#####    unzip shopify.zip"
   ]
  },
  {
   "cell_type": "markdown",
   "metadata": {},
   "source": [
    "### 3. Populate tables"
   ]
  },
  {
   "cell_type": "code",
   "execution_count": 86,
   "metadata": {},
   "outputs": [],
   "source": [
    "from google.cloud import spanner\n",
    "from google.cloud.spanner_v1 import param_types\n",
    "import pandas as pd"
   ]
  },
  {
   "cell_type": "code",
   "execution_count": 87,
   "metadata": {},
   "outputs": [],
   "source": [
    "span_instance=\"span-instance\"\n",
    "span_database=\"shopify\"\n",
    "spanner_client = spanner.Client()\n",
    "instance = spanner_client.instance(span_instance)\n",
    "database = instance.database(span_database)"
   ]
  },
  {
   "cell_type": "code",
   "execution_count": 43,
   "metadata": {},
   "outputs": [],
   "source": [
    "df = pd.read_csv('shopify/apps.csv', sep=',', header=0, lineterminator='\\n')\n",
    "values = df.values.tolist()\n",
    "\n",
    "with database.batch() as batch:\n",
    "    batch.insert(\n",
    "        table=\"apps\",\n",
    "        columns=(\"id\", \"url\", \"title\", \"developer\", \"developer_link\", \"icon\", \"rating\", \"reviews_count\"),\n",
    "        values=values\n",
    "    )"
   ]
  },
  {
   "cell_type": "code",
   "execution_count": 40,
   "metadata": {},
   "outputs": [],
   "source": [
    "df = pd.read_csv('shopify/apps_categories.csv', sep=',', header=0, lineterminator='\\n')\n",
    "values = df.values.tolist()\n",
    "\n",
    "with database.batch() as batch:\n",
    "    batch.insert(\n",
    "        table=\"apps_categories\",\n",
    "        columns=(\"app_id\", \"category_id\"),\n",
    "        values=values\n",
    "    )"
   ]
  },
  {
   "cell_type": "code",
   "execution_count": 45,
   "metadata": {},
   "outputs": [],
   "source": [
    "df = pd.read_csv('shopify/categories.csv', sep=',', header=0, lineterminator='\\n')\n",
    "values = df.values.tolist()\n",
    "\n",
    "with database.batch() as batch:\n",
    "    batch.insert(\n",
    "        table=\"categories\",\n",
    "        columns=(\"id\", \"title\"),\n",
    "        values=values\n",
    "    )"
   ]
  },
  {
   "cell_type": "code",
   "execution_count": 49,
   "metadata": {},
   "outputs": [],
   "source": [
    "df = pd.read_csv('shopify/key_benefits.csv', sep=',', header=0, lineterminator='\\n')\n",
    "values = df.values.tolist()\n",
    "\n",
    "with database.batch() as batch:\n",
    "    batch.insert(\n",
    "        table=\"key_benefits\",\n",
    "        columns=(\"app_id\", \"title\", \"description\"),\n",
    "        values=values\n",
    "    )"
   ]
  },
  {
   "cell_type": "code",
   "execution_count": 52,
   "metadata": {},
   "outputs": [],
   "source": [
    "df = pd.read_csv('shopify/pricing_plans.csv', sep=',', header=0, lineterminator='\\n')\n",
    "values = df.values.tolist()\n",
    "\n",
    "with database.batch() as batch:\n",
    "    batch.insert(\n",
    "        table=\"pricing_plans\",\n",
    "        columns=(\"id\", \"app_id\", \"title\", \"price\"),\n",
    "        values=values\n",
    "    )"
   ]
  },
  {
   "cell_type": "code",
   "execution_count": 55,
   "metadata": {},
   "outputs": [],
   "source": [
    "df = pd.read_csv('shopify/pricing_plan_features.csv', sep=',', header=0, lineterminator='\\n')\n",
    "values = df.values.tolist()\n",
    "\n",
    "with database.batch() as batch:\n",
    "    batch.insert(\n",
    "        table=\"pricing_plan_features\",\n",
    "        columns=(\"app_id\", \"pricing_plan_id\", \"feature\"),\n",
    "        values=values\n",
    "    )"
   ]
  },
  {
   "cell_type": "code",
   "execution_count": 44,
   "metadata": {},
   "outputs": [
    {
     "name": "stdout",
     "output_type": "stream",
     "text": [
      "\n",
      "3547\n"
     ]
    }
   ],
   "source": [
    "!{CLI_CONNECT} -e \"select count(*) from apps\""
   ]
  },
  {
   "cell_type": "code",
   "execution_count": 42,
   "metadata": {},
   "outputs": [
    {
     "name": "stdout",
     "output_type": "stream",
     "text": [
      "\n",
      "5383\n"
     ]
    }
   ],
   "source": [
    "!{CLI_CONNECT} -e \"select count(*) from apps_categories\""
   ]
  },
  {
   "cell_type": "code",
   "execution_count": 46,
   "metadata": {},
   "outputs": [
    {
     "name": "stdout",
     "output_type": "stream",
     "text": [
      "\n",
      "12\n"
     ]
    }
   ],
   "source": [
    "!{CLI_CONNECT} -e \"select count(*) from categories\""
   ]
  },
  {
   "cell_type": "code",
   "execution_count": 50,
   "metadata": {},
   "outputs": [
    {
     "name": "stdout",
     "output_type": "stream",
     "text": [
      "\n",
      "9541\n"
     ]
    }
   ],
   "source": [
    "!{CLI_CONNECT} -e \"select count(*) from key_benefits\""
   ]
  },
  {
   "cell_type": "code",
   "execution_count": 56,
   "metadata": {},
   "outputs": [
    {
     "name": "stdout",
     "output_type": "stream",
     "text": [
      "\n",
      "6275\n"
     ]
    }
   ],
   "source": [
    "!{CLI_CONNECT} -e \"select count(*) from pricing_plans\""
   ]
  },
  {
   "cell_type": "code",
   "execution_count": 57,
   "metadata": {},
   "outputs": [
    {
     "name": "stdout",
     "output_type": "stream",
     "text": [
      "\n",
      "16270\n"
     ]
    }
   ],
   "source": [
    "!{CLI_CONNECT} -e \"select count(*) from pricing_plan_features\""
   ]
  },
  {
   "cell_type": "code",
   "execution_count": 95,
   "metadata": {},
   "outputs": [
    {
     "name": "stdout",
     "output_type": "stream",
     "text": [
      "1 record(s) inserted.\n",
      "1 record(s) inserted.\n",
      "1 record(s) inserted.\n",
      "1 record(s) inserted.\n",
      "1 record(s) inserted.\n"
     ]
    }
   ],
   "source": [
    "def insert_app(transaction):\n",
    "\n",
    "    row_ct = transaction.execute_update(\n",
    "        \"INSERT INTO apps (id, url, title, developer, developer_link, icon, reviews_count) \"\n",
    "        \"VALUES ('683d06af-14c7-4733-9bde-ec5b699af996', \"\n",
    "          \"'https://apps.shopify.com/watchlist?surface_detail=inventory-management&surface_inter_position=1&surface_intra_position=9&surface_type=category',\" \n",
    "          \"'Back in Stock Product Alerts', \"\n",
    "          \"'Swym Corporation', \"\n",
    "          \"'https://apps.shopify.com/partners/developer-ca6a967f09890f68',\"\n",
    "          \"'https://apps.shopifycdn.com/listing_images/9905a4c8f22cb4a3b0c32af55a58ec21/icon/e6d46a7e5e1df375d542d033aae80459.png?height=72&width=72',\"\n",
    "           \"0)\"\n",
    "    )\n",
    "    \n",
    "    print(\"{} record(s) inserted.\".format(row_ct))\n",
    "    \n",
    "    row_ct = transaction.execute_update(\n",
    "        \"INSERT INTO apps_categories (app_id, category_id) \"\n",
    "        \"VALUES ('683d06af-14c7-4733-9bde-ec5b699af996', '737ad50051083aa051d127a53b3ac0da')\"\n",
    "    )\n",
    "    \n",
    "    print(\"{} record(s) inserted.\".format(row_ct))\n",
    "    \n",
    "    \n",
    "    row_ct = transaction.execute_update(\n",
    "        \"INSERT INTO key_benefits (app_id, title, description) \"\n",
    "        \"VALUES ('683d06af-14c7-4733-9bde-ec5b699af996', \"\n",
    "          \"'Drive Back In Stock Sales', 'Back in stock, out of stock, pre order & restock alerts')\"\n",
    "    )\n",
    "    \n",
    "    print(\"{} record(s) inserted.\".format(row_ct))\n",
    "    \n",
    "    row_ct = transaction.execute_update(\n",
    "        \"INSERT INTO pricing_plans (id, app_id, title, price) \"\n",
    "        \"VALUES ('961a2751-1dbd-4f0f-8248-9fe6a6efd4ab', '683d06af-14c7-4733-9bde-ec5b699af996', \"\n",
    "                \"'Free Trial', 14.99)\"\n",
    "    )\n",
    "    \n",
    "    print(\"{} record(s) inserted.\".format(row_ct))\n",
    "    \n",
    "\n",
    "    row_ct = transaction.execute_update(\n",
    "        \"INSERT INTO pricing_plan_features (app_id, pricing_plan_id, feature) \"\n",
    "        \" VALUES ('683d06af-14c7-4733-9bde-ec5b699af996', '961a2751-1dbd-4f0f-8248-9fe6a6efd4ab', \"\n",
    "                 \"'Up to 250 alert requests/mo')\"\n",
    "    )\n",
    "    \n",
    "    print(\"{} record(s) inserted.\".format(row_ct))\n",
    "      \n",
    "database.run_in_transaction(insert_app)"
   ]
  },
  {
   "cell_type": "code",
   "execution_count": 96,
   "metadata": {},
   "outputs": [
    {
     "name": "stdout",
     "output_type": "stream",
     "text": [
      "4780 record(s) updated.\n"
     ]
    }
   ],
   "source": [
    "def update_price(transaction):\n",
    "    row_ct = transaction.execute_update(\n",
    "            \"UPDATE pricing_plans \"\n",
    "            \"SET price = price / 2 \"\n",
    "            \"WHERE price > 0\"\n",
    "        )\n",
    "\n",
    "    print(\"{} record(s) updated.\".format(row_ct))\n",
    "\n",
    "database.run_in_transaction(update_price)"
   ]
  },
  {
   "cell_type": "code",
   "execution_count": 97,
   "metadata": {},
   "outputs": [
    {
     "name": "stdout",
     "output_type": "stream",
     "text": [
      "1 record(s) deleted.\n",
      "1 record(s) deleted.\n",
      "1 record(s) deleted.\n",
      "1 record(s) deleted.\n",
      "1 record(s) deleted.\n"
     ]
    }
   ],
   "source": [
    "def delete_app(transaction):\n",
    "        row_ct = transaction.execute_update(\n",
    "            \"DELETE FROM apps WHERE id = '683d06af-14c7-4733-9bde-ec5b699af996'\"\n",
    "        )\n",
    "\n",
    "        print(\"{} record(s) deleted.\".format(row_ct))\n",
    "        \n",
    "        row_ct = transaction.execute_update(\n",
    "            \"DELETE FROM apps_categories WHERE app_id = '683d06af-14c7-4733-9bde-ec5b699af996'\"\n",
    "        )\n",
    "        \n",
    "        print(\"{} record(s) deleted.\".format(row_ct))\n",
    "        \n",
    "        row_ct = transaction.execute_update(\n",
    "            \"DELETE FROM key_benefits WHERE app_id = '683d06af-14c7-4733-9bde-ec5b699af996'\"\n",
    "        )\n",
    "        \n",
    "        print(\"{} record(s) deleted.\".format(row_ct)) \n",
    "        \n",
    "        \n",
    "        row_ct = transaction.execute_update(\n",
    "            \"DELETE FROM pricing_plans WHERE app_id = '683d06af-14c7-4733-9bde-ec5b699af996'\"\n",
    "        )\n",
    "        \n",
    "        print(\"{} record(s) deleted.\".format(row_ct)) \n",
    "        \n",
    "        \n",
    "        row_ct = transaction.execute_update(\n",
    "            \"DELETE FROM pricing_plan_features WHERE app_id = '683d06af-14c7-4733-9bde-ec5b699af996'\"\n",
    "        )\n",
    "        \n",
    "        print(\"{} record(s) deleted.\".format(row_ct))\n",
    "\n",
    "database.run_in_transaction(delete_app)"
   ]
  },
  {
   "cell_type": "code",
   "execution_count": 100,
   "metadata": {},
   "outputs": [],
   "source": [
    "!{CLI_CONNECT} -e \"ALTER TABLE apps_categories \\\n",
    "  ADD CONSTRAINT apps_cat_app_id_fk FOREIGN KEY (app_id) REFERENCES apps (id)\""
   ]
  },
  {
   "cell_type": "code",
   "execution_count": 101,
   "metadata": {},
   "outputs": [
    {
     "name": "stdout",
     "output_type": "stream",
     "text": [
      "Table\tCreate Table\n",
      "apps_categories\tCREATE TABLE apps_categories (\n",
      "  app_id STRING(50),\n",
      "  category_id STRING(50),\n",
      "  CONSTRAINT apps_cat_app_id_fk FOREIGN KEY(app_id) REFERENCES apps(id),\n",
      ") PRIMARY KEY(app_id, category_id)\n"
     ]
    }
   ],
   "source": [
    "!{CLI_CONNECT} -e \"show create table apps_categories\""
   ]
  },
  {
   "cell_type": "code",
   "execution_count": 102,
   "metadata": {},
   "outputs": [],
   "source": [
    "!{CLI_CONNECT} -e \"CREATE INDEX app_rating_idx ON apps(rating)\""
   ]
  },
  {
   "cell_type": "code",
   "execution_count": null,
   "metadata": {},
   "outputs": [],
   "source": []
  }
 ],
 "metadata": {
  "environment": {
   "name": "common-cpu.m55",
   "type": "gcloud",
   "uri": "gcr.io/deeplearning-platform-release/base-cpu:m55"
  },
  "kernelspec": {
   "display_name": "Python 3",
   "language": "python",
   "name": "python3"
  },
  "language_info": {
   "codemirror_mode": {
    "name": "ipython",
    "version": 3
   },
   "file_extension": ".py",
   "mimetype": "text/x-python",
   "name": "python",
   "nbconvert_exporter": "python",
   "pygments_lexer": "ipython3",
   "version": "3.7.8"
  }
 },
 "nbformat": 4,
 "nbformat_minor": 4
}
